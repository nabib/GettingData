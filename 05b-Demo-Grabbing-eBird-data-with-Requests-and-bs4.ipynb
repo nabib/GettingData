{
 "cells": [
  {
   "cell_type": "markdown",
   "metadata": {},
   "source": [
    "This is a quick demo of something we'll pick up next, namely grabbing very specific data chunks using the modules we've just learned plus application programming interfaces (APIs). "
   ]
  },
  {
   "cell_type": "code",
   "execution_count": 1,
   "metadata": {},
   "outputs": [],
   "source": [
    "from bs4 import BeautifulSoup\n",
    "import urllib\n",
    "import requests"
   ]
  },
  {
   "cell_type": "code",
   "execution_count": 2,
   "metadata": {},
   "outputs": [],
   "source": [
    "r = requests.get(\"http://ebird.org/ws1.1/data/obs/geo/recent?lng=-111.83&lat=41.74\")"
   ]
  },
  {
   "cell_type": "code",
   "execution_count": 3,
   "metadata": {},
   "outputs": [],
   "source": [
    "soup = BeautifulSoup(r.text,'lxml')"
   ]
  },
  {
   "cell_type": "code",
   "execution_count": 4,
   "metadata": {},
   "outputs": [
    {
     "name": "stdout",
     "output_type": "stream",
     "text": [
      "41.7411322 -111.815114 Turdus migratorius\n",
      "41.7411322 -111.815114 Colaptes auratus\n",
      "41.7411322 -111.815114 Haemorhous mexicanus\n",
      "41.7411322 -111.815114 Sturnus vulgaris\n",
      "41.7411322 -111.815114 Junco hyemalis\n",
      "41.7411322 -111.815114 Branta canadensis\n",
      "41.7411322 -111.815114 Poecile atricapillus\n",
      "41.7422935 -111.7898228 Megaceryle alcyon\n",
      "41.7422935 -111.7898228 Streptopelia decaocto\n",
      "41.7422935 -111.7898228 Larus delawarensis\n",
      "41.7422935 -111.7898228 Passeriformes sp.\n",
      "41.7422935 -111.7898228 Anas platyrhynchos\n",
      "41.7422935 -111.7898228 Anas platyrhynchos (Domestic type)\n",
      "41.7422935 -111.7898228 Lophodytes cucullatus\n",
      "41.7456052 -111.7483377 Cinclus mexicanus\n",
      "41.7456052 -111.7483377 Myadestes townsendi\n",
      "41.7456052 -111.7483377 Nucifraga columbiana\n",
      "41.72127 -111.822214 Pica hudsonia\n",
      "41.836329 -111.89354 Falco sparverius\n",
      "41.836329 -111.89354 Sturnella neglecta\n",
      "41.836329 -111.89354 Accipiter striatus\n",
      "41.836329 -111.89354 Columba livia\n",
      "41.836329 -111.89354 Phasianus colchicus\n",
      "41.836329 -111.89354 Agelaius phoeniceus\n",
      "41.836329 -111.89354 Buteo jamaicensis\n",
      "41.836329 -111.89354 Spatula clypeata\n",
      "41.836329 -111.89354 Circus hudsonius\n",
      "41.836329 -111.89354 Larus californicus\n",
      "41.7617487 -111.7138828 Corvus corax\n",
      "41.7617487 -111.7138828 Sitta canadensis\n",
      "41.7617487 -111.7138828 Spinus pinus\n",
      "41.72127 -111.822214 Corvus brachyrhynchos\n",
      "41.72127 -111.822214 Passer domesticus\n",
      "41.740738 -111.8050504 Callipepla californica\n",
      "41.740738 -111.8050504 Zonotrichia leucophrys\n",
      "41.740738 -111.8050504 Pipilo maculatus\n",
      "41.740738 -111.8050504 Melospiza melodia\n",
      "41.740738 -111.8050504 Regulus calendula\n",
      "41.740738 -111.8050504 Spinus psaltria\n",
      "41.7529928 -111.7253052 Aves sp.\n",
      "41.7651148 -111.9116323 Bucephala albeola\n",
      "41.7651148 -111.9116323 Fulica americana\n",
      "41.7651148 -111.9116323 Oxyura jamaicensis\n",
      "41.7651148 -111.9116323 Aythya americana\n",
      "41.7651148 -111.9116323 Aythya affinis\n",
      "41.781617 -111.9431734 Mareca americana\n",
      "41.781617 -111.9431734 Aechmophorus occidentalis\n",
      "41.781617 -111.9431734 Podilymbus podiceps\n",
      "41.781617 -111.9431734 Anas crecca\n",
      "41.781617 -111.9431734 Podiceps nigricollis\n",
      "41.7411322 -111.815114 Bombycilla cedrorum\n",
      "41.7625926 -111.8646137 Icteridae sp.\n",
      "41.7625926 -111.8646137 Gallinago delicata\n",
      "41.7625926 -111.8646137 Charadrius vociferus\n",
      "41.7625926 -111.8646137 Euphagus cyanocephalus\n",
      "41.79525 -112.040306 Meleagris gallopavo\n",
      "41.729113 -111.9305992 Spatula cyanoptera\n",
      "41.729113 -111.9305992 Mareca strepera\n",
      "41.7062251 -111.8640697 Spinus tristis\n",
      "41.7062251 -111.8640697 Melospiza lincolnii\n",
      "41.7999833 -111.8215942 Catharus guttatus\n",
      "41.7999833 -111.8215942 Setophaga coronata\n",
      "41.61963 -111.8595 Ardea herodias\n",
      "41.61963 -111.8595 Podiceps auritus\n",
      "41.61963 -111.8595 Gavia sp.\n",
      "41.61963 -111.8595 Mergus merganser/serrator\n"
     ]
    }
   ],
   "source": [
    "for sighting in soup.find_all('sighting'):\n",
    "    print (sighting.lat.text, sighting.lng.text, sighting.find('sci-name').text)"
   ]
  },
  {
   "cell_type": "code",
   "execution_count": null,
   "metadata": {},
   "outputs": [],
   "source": []
  }
 ],
 "metadata": {
  "kernelspec": {
   "display_name": "Python 3",
   "language": "python",
   "name": "python3"
  },
  "language_info": {
   "codemirror_mode": {
    "name": "ipython",
    "version": 3
   },
   "file_extension": ".py",
   "mimetype": "text/x-python",
   "name": "python",
   "nbconvert_exporter": "python",
   "pygments_lexer": "ipython3",
   "version": "3.6.5"
  }
 },
 "nbformat": 4,
 "nbformat_minor": 1
}
